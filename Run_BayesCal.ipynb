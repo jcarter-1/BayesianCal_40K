{
 "cells": [
  {
   "cell_type": "markdown",
   "id": "0fbd1aac-4fec-4157-974c-317503f23824",
   "metadata": {},
   "source": [
    "# Running Notebook for Bayesian Calibration "
   ]
  },
  {
   "cell_type": "code",
   "execution_count": 7,
   "id": "a87020fd-4cee-4b52-8f29-fcaabb4360fd",
   "metadata": {},
   "outputs": [],
   "source": [
    "import sys\n",
    "# Depending on how you get the code \n",
    "# You can point toward the folder you have code in and then read the Class in \n",
    "sys.path.append('')# Put path to the parent folder here\n",
    "import BayesCalMCMC # Import Class"
   ]
  },
  {
   "cell_type": "code",
   "execution_count": 8,
   "id": "c9ae51df-fb5b-4743-b087-29ed323ec8d9",
   "metadata": {},
   "outputs": [],
   "source": [
    "import pandas as pd\n",
    "dataframe = pd.read_excel(\"Final_Bayes_Input_Data.xlsx\") # Read in the data"
   ]
  },
  {
   "cell_type": "code",
   "execution_count": 9,
   "id": "f4a0c38f-caef-43ad-88b9-a86f8ed51dd1",
   "metadata": {},
   "outputs": [],
   "source": [
    "inst = BayesCalMCMC.BayesCal_MCMC(dataframe, nchains=10, \n",
    "                                  iterations= 50000, \n",
    "                                 nbatch = 1000, \n",
    "                                 Run_Name='TEST2025_2', \n",
    "                                 Start_from_Pickles= False)\n",
    "# Make a class instance with your selected MCMC parameters\n",
    "# number of chains\n",
    "# iterations\n",
    "# number of batches - how many times to repeat the process\n",
    "# Input Run_Name - Everything will be saved with this prefix\n",
    "# Start_from_Pickles - flag (True of False) if True and you have run before it will pick up from the last known position\n",
    "# If False it will start again seeded new chains. "
   ]
  },
  {
   "cell_type": "code",
   "execution_count": 1,
   "id": "0962bfe7-6353-40ba-875c-d0ccef152012",
   "metadata": {},
   "outputs": [],
   "source": [
    "# Run the batches using \n",
    "#inst.Run_Batch() \n"
   ]
  },
  {
   "cell_type": "code",
   "execution_count": null,
   "id": "f4663873-6562-4c11-bdf5-42b0866f003f",
   "metadata": {},
   "outputs": [],
   "source": [
    "inst.Plot_FCs()"
   ]
  },
  {
   "cell_type": "code",
   "execution_count": null,
   "id": "038407eb-bf0a-4666-8238-70dc7596c096",
   "metadata": {},
   "outputs": [],
   "source": [
    "inst.Plot_Posterior()"
   ]
  },
  {
   "cell_type": "markdown",
   "id": "99936a43-3fd3-45ef-8a7a-837c303f02e1",
   "metadata": {},
   "source": [
    "# Repetition and Restarting\n",
    "- The main goal of this code is to reach convergence on the posterior for the four modes of $^{40}$K decay scheme\n",
    "- There are maybe ~ 400 parameters\n",
    "- It takes a while\n",
    "- So idea is to continually create and overwrite existing pickle files so you can run the model over and over again until convergence.\n",
    "- You can run over night and if it crashes it will keep the last place and you can then run again from the last saved pickle so you might lose a bit of information but not a lot\n",
    "- Select any number of chains and any number of samples\n",
    "- Pickling will happen every 5000 samples so just choose more than that and multiples of this "
   ]
  },
  {
   "cell_type": "code",
   "execution_count": 7,
   "id": "8b0606ad-6444-475c-a1de-bccc506a9a7a",
   "metadata": {},
   "outputs": [],
   "source": [
    "# inst.Print_Current_Model_Place()\n",
    "# This function prints out the latest posterior of each chain\n",
    "# The current temperature\n",
    "# The total number of iterations so far"
   ]
  },
  {
   "cell_type": "code",
   "execution_count": 11,
   "id": "74cd5097-20a4-4b3a-8927-be951b6fc792",
   "metadata": {},
   "outputs": [
    {
     "name": "stdout",
     "output_type": "stream",
     "text": [
      "Log Posterior :  -7541174815347160.0\n",
      "Log Posterior :  -7541174897856423.0\n",
      "Log Posterior :  -7541174190585105.0\n",
      "Log Posterior :  -7541174626720635.0\n",
      "Log Posterior :  -7541174729589316.0\n",
      "Log Posterior :  -7541174853063291.0\n",
      "Log Posterior :  -7541174691712799.0\n",
      "Log Posterior :  -7541174557338203.0\n",
      "Log Posterior :  -7541174601642093.0\n",
      "Log Posterior :  -7541174453763861.0\n",
      "Temperature:  1\n",
      "Total Iterations so far:  1\n"
     ]
    }
   ],
   "source": [
    "inst.Print_Current_Model_Place()"
   ]
  },
  {
   "cell_type": "markdown",
   "id": "2bb64e8e-f674-46be-9626-3d0b9465274d",
   "metadata": {},
   "source": [
    "# Get Complete DataFrame of $^{40}$K\n",
    "- Total decay constant, partial decay constants, and the correlation coefficent between all of them\n",
    "- The dataframe can be made using Get_Grouped_KDK_Stats()\n",
    "- Then saved used the df.to_excel or df.to_csv "
   ]
  },
  {
   "cell_type": "code",
   "execution_count": null,
   "id": "c4fa0c6d-b9d6-4661-8d40-9d9ee2b2e42a",
   "metadata": {},
   "outputs": [],
   "source": [
    "# Get all K-decay modes and their correlations\n",
    "inst.Get_Grouped_KDK_Stats()"
   ]
  },
  {
   "cell_type": "code",
   "execution_count": null,
   "id": "3764ea48-1a94-4ef0-b289-e7ca083efacc",
   "metadata": {},
   "outputs": [],
   "source": [
    "# Get U-decay constants dataframe\n",
    "inst.Get_U_decay_constants()"
   ]
  },
  {
   "cell_type": "markdown",
   "id": "7f496aca-4a8b-4bf0-af9a-1cef14ca619c",
   "metadata": {},
   "source": [
    "# Test for Convergence using Gelman-Rubin Statistic\n",
    "- Just looking at the four modes of decay and combined total decay constant\n",
    "- Can be straightforwardly extended to all model parameters\n",
    "- Use the Get_40K_Decay_Stuff() inbuilt function for this"
   ]
  },
  {
   "cell_type": "code",
   "execution_count": null,
   "id": "c50e1492-983d-40c4-87a5-c03c7ce31111",
   "metadata": {},
   "outputs": [],
   "source": [
    "# Get the Gelman-Rubin Stat for the 4 modes of 40K decay and the total decay constant\n",
    "inst.Get_40K_Decay_Stuff()"
   ]
  },
  {
   "cell_type": "code",
   "execution_count": null,
   "id": "ee31cdae-218f-428f-a603-8143a6cc3d70",
   "metadata": {},
   "outputs": [],
   "source": [
    "# Other parameters can be extracted like\n",
    "# inst.Get_Age_Perturbation_Parameters() - like this\n",
    "# inst.Get_Residence_Time()"
   ]
  },
  {
   "cell_type": "code",
   "execution_count": null,
   "id": "067d9aea-8038-49e1-aebd-713bf1e3483d",
   "metadata": {},
   "outputs": [],
   "source": []
  }
 ],
 "metadata": {
  "kernelspec": {
   "display_name": "Python 3 (ipykernel)",
   "language": "python",
   "name": "python3"
  },
  "language_info": {
   "codemirror_mode": {
    "name": "ipython",
    "version": 3
   },
   "file_extension": ".py",
   "mimetype": "text/x-python",
   "name": "python",
   "nbconvert_exporter": "python",
   "pygments_lexer": "ipython3",
   "version": "3.11.7"
  }
 },
 "nbformat": 4,
 "nbformat_minor": 5
}
